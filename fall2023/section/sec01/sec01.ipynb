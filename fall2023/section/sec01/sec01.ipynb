{
 "cells": [
  {
   "cell_type": "markdown",
   "metadata": {},
   "source": [
    "# Naive Bayes for text classification"
   ]
  },
  {
   "cell_type": "markdown",
   "metadata": {},
   "source": [
    "“I liked the movie”\n",
    "positive\n",
    "“It’s a good movie. Nice story”\n",
    "positive\n",
    "“Nice songs. But sadly boring ending. ”\n",
    "negative\n",
    "“Hero’s acting is bad but heroine looks good. Overall nice movie”\n",
    "positive\n",
    "“Sad, boring movie”\n",
    "negative"
   ]
  },
  {
   "cell_type": "markdown",
   "metadata": {},
   "source": [
    "## Basic Naive Bayes"
   ]
  },
  {
   "cell_type": "code",
   "execution_count": 1,
   "metadata": {},
   "outputs": [],
   "source": [
    "train_sentence_list = [\n",
    "    \"I liked the movie\",\n",
    "    \"It's a good movie. Nice story\",\n",
    "    \"Nice songs. But sadly boring ending.\",\n",
    "    \"Hero's acting is bad but heroine looks good. Overall nice movie\",\n",
    "    \"Sad, boring movie\"\n",
    "]\n",
    "train_label_list = [1, 1, 0, 1, 0]\n",
    "\n",
    "test_sentence_list = [\n",
    "    \"I loved the acting in the movie\",\n",
    "    \"The movie was bad\",\n",
    "    \"Sad\"\n",
    "]\n",
    "test_label_list = [1, 0, 0]"
   ]
  },
  {
   "cell_type": "code",
   "execution_count": 2,
   "metadata": {},
   "outputs": [],
   "source": [
    "word_list = \" \".join(train_sentence_list).split()"
   ]
  },
  {
   "cell_type": "code",
   "execution_count": 3,
   "metadata": {},
   "outputs": [
    {
     "data": {
      "text/plain": [
       "['I',\n",
       " 'liked',\n",
       " 'the',\n",
       " 'movie',\n",
       " \"It's\",\n",
       " 'a',\n",
       " 'good',\n",
       " 'movie.',\n",
       " 'Nice',\n",
       " 'story',\n",
       " 'Nice',\n",
       " 'songs.',\n",
       " 'But',\n",
       " 'sadly',\n",
       " 'boring',\n",
       " 'ending.',\n",
       " \"Hero's\",\n",
       " 'acting',\n",
       " 'is',\n",
       " 'bad',\n",
       " 'but',\n",
       " 'heroine',\n",
       " 'looks',\n",
       " 'good.',\n",
       " 'Overall',\n",
       " 'nice',\n",
       " 'movie',\n",
       " 'Sad,',\n",
       " 'boring',\n",
       " 'movie']"
      ]
     },
     "execution_count": 3,
     "metadata": {},
     "output_type": "execute_result"
    }
   ],
   "source": [
    "word_list"
   ]
  },
  {
   "cell_type": "markdown",
   "metadata": {},
   "source": [
    "# Pre-processing"
   ]
  },
  {
   "cell_type": "code",
   "execution_count": 9,
   "metadata": {},
   "outputs": [],
   "source": [
    "import string\n",
    "import nltk\n",
    "from nltk.stem.porter import PorterStemmer\n",
    "from nltk.corpus import stopwords"
   ]
  },
  {
   "cell_type": "code",
   "execution_count": 10,
   "metadata": {},
   "outputs": [
    {
     "name": "stderr",
     "output_type": "stream",
     "text": [
      "[nltk_data] Downloading package stopwords to\n",
      "[nltk_data]     /Users/xiangpan/nltk_data...\n",
      "[nltk_data]   Unzipping corpora/stopwords.zip.\n"
     ]
    },
    {
     "data": {
      "text/plain": [
       "True"
      ]
     },
     "execution_count": 10,
     "metadata": {},
     "output_type": "execute_result"
    }
   ],
   "source": [
    "nltk.download('stopwords')"
   ]
  },
  {
   "cell_type": "code",
   "execution_count": 12,
   "metadata": {},
   "outputs": [],
   "source": [
    "def preprocess(sentence):\n",
    "    # Remove punctuations\n",
    "    sentence = sentence.translate(str.maketrans('', '', string.punctuation))\n",
    "    # Convert words to lower case and split them\n",
    "    sentence = sentence.lower().split()\n",
    "    # Remove stop words\n",
    "    stop_words = set(stopwords.words(\"english\"))\n",
    "    sentence = [word for word in sentence if word not in stop_words]\n",
    "    # stem words\n",
    "    porter = PorterStemmer()\n",
    "    sentence = [porter.stem(word) for word in sentence]\n",
    "    return sentence"
   ]
  },
  {
   "cell_type": "code",
   "execution_count": 25,
   "metadata": {},
   "outputs": [
    {
     "name": "stdout",
     "output_type": "stream",
     "text": [
      "15 8\n"
     ]
    }
   ],
   "source": [
    "postive_words = []\n",
    "negative_words = []\n",
    "for sentence, label in zip(train_sentence_list, train_label_list):\n",
    "    sentence = preprocess(sentence)\n",
    "    if label == 0:\n",
    "        negative_words += sentence\n",
    "    else:\n",
    "        postive_words += sentence\n",
    "postive_words = list(postive_words)\n",
    "negative_words = list(negative_words)\n",
    "print(len(postive_words), len(negative_words))"
   ]
  },
  {
   "cell_type": "markdown",
   "metadata": {},
   "source": [
    "Note here we removed the stop words and stemd, so the calculation is different from the slides."
   ]
  },
  {
   "cell_type": "code",
   "execution_count": 18,
   "metadata": {},
   "outputs": [
    {
     "data": {
      "text/plain": [
       "['good',\n",
       " 'act',\n",
       " 'like',\n",
       " 'movi',\n",
       " 'look',\n",
       " 'hero',\n",
       " 'heroin',\n",
       " 'bad',\n",
       " 'overal',\n",
       " 'stori',\n",
       " 'nice']"
      ]
     },
     "execution_count": 18,
     "metadata": {},
     "output_type": "execute_result"
    }
   ],
   "source": [
    "postive_words"
   ]
  },
  {
   "cell_type": "code",
   "execution_count": 19,
   "metadata": {},
   "outputs": [
    {
     "data": {
      "text/plain": [
       "['end', 'bore', 'movi', 'sad', 'song', 'nice', 'sadli']"
      ]
     },
     "execution_count": 19,
     "metadata": {},
     "output_type": "execute_result"
    }
   ],
   "source": [
    "negative_words"
   ]
  },
  {
   "cell_type": "markdown",
   "metadata": {},
   "source": [
    "## Calculate the prior probability"
   ]
  },
  {
   "cell_type": "code",
   "execution_count": 20,
   "metadata": {},
   "outputs": [],
   "source": [
    "positive_prior = len([label for label in train_label_list if label == 1]) / len(train_label_list)\n",
    "negative_prior = len([label for label in train_label_list if label == 0]) / len(train_label_list)"
   ]
  },
  {
   "cell_type": "code",
   "execution_count": 21,
   "metadata": {},
   "outputs": [
    {
     "data": {
      "text/plain": [
       "0.6"
      ]
     },
     "execution_count": 21,
     "metadata": {},
     "output_type": "execute_result"
    }
   ],
   "source": [
    "positive_prior"
   ]
  },
  {
   "cell_type": "code",
   "execution_count": 22,
   "metadata": {},
   "outputs": [
    {
     "data": {
      "text/plain": [
       "0.4"
      ]
     },
     "execution_count": 22,
     "metadata": {},
     "output_type": "execute_result"
    }
   ],
   "source": [
    "negative_prior"
   ]
  },
  {
   "cell_type": "markdown",
   "metadata": {},
   "source": [
    "## Calculate the P(W|C)"
   ]
  },
  {
   "cell_type": "code",
   "execution_count": 34,
   "metadata": {},
   "outputs": [],
   "source": [
    "def get_conditional_word_likelihood(word, label):\n",
    "    if label == 0:\n",
    "        return negative_words.count(word) / len(negative_words)\n",
    "    else:\n",
    "        return postive_words.count(word) / len(postive_words)"
   ]
  },
  {
   "cell_type": "code",
   "execution_count": 35,
   "metadata": {},
   "outputs": [],
   "source": [
    "def get_conditional_word_likelihood_with_smoothing(word, label):\n",
    "    if label == 0:\n",
    "        return (negative_words.count(word) + 1) / (len(negative_words) + len(word_list))\n",
    "    else:\n",
    "        return (postive_words.count(word) + 1) / (len(postive_words) + len(word_list))"
   ]
  },
  {
   "cell_type": "code",
   "execution_count": 40,
   "metadata": {},
   "outputs": [],
   "source": [
    "def get_sentence_likelihood(sentence, label):\n",
    "    sentence = preprocess(sentence)\n",
    "    likelihood = 1\n",
    "    for word in sentence:\n",
    "        likelihood *= get_conditional_word_likelihood_with_smoothing(word, label)\n",
    "    return likelihood"
   ]
  },
  {
   "cell_type": "markdown",
   "metadata": {},
   "source": [
    "# Do inference"
   ]
  },
  {
   "cell_type": "code",
   "execution_count": 41,
   "metadata": {},
   "outputs": [
    {
     "name": "stdout",
     "output_type": "stream",
     "text": [
      "5.2674897119341567e-05 1.4579384749963548e-05\n",
      "Positive\n",
      "0.0023703703703703703 0.0005540166204986149\n",
      "Positive\n",
      "0.013333333333333334 0.021052631578947368\n",
      "Negative\n"
     ]
    }
   ],
   "source": [
    "# do inference\n",
    "for test_sentence in test_sentence_list:\n",
    "    pos_prob = positive_prior * get_sentence_likelihood(test_sentence, 1)\n",
    "    neg_prob = negative_prior * get_sentence_likelihood(test_sentence, 0)\n",
    "    print(pos_prob, neg_prob)\n",
    "    if pos_prob > neg_prob:\n",
    "        print(\"Positive\")\n",
    "    elif pos_prob < neg_prob:\n",
    "        print(\"Negative\")\n",
    "    else:\n",
    "        print(\"Neutral!\")"
   ]
  },
  {
   "cell_type": "markdown",
   "metadata": {},
   "source": [
    "# Tokenization"
   ]
  },
  {
   "cell_type": "code",
   "execution_count": 108,
   "metadata": {},
   "outputs": [
    {
     "name": "stderr",
     "output_type": "stream",
     "text": [
      "[nltk_data] Downloading package punkt to /Users/xiangpan/nltk_data...\n",
      "[nltk_data]   Package punkt is already up-to-date!\n"
     ]
    },
    {
     "data": {
      "text/plain": [
       "['Hello', 'World', '!']"
      ]
     },
     "execution_count": 108,
     "metadata": {},
     "output_type": "execute_result"
    }
   ],
   "source": [
    "import nltk\n",
    "nltk.download('punkt')\n",
    "\n",
    "from nltk.tokenize import word_tokenize\n",
    "word_tokenize(\"Hello World!\")"
   ]
  },
  {
   "cell_type": "markdown",
   "metadata": {},
   "source": [
    "## Stemming with NLTK"
   ]
  },
  {
   "cell_type": "code",
   "execution_count": 1,
   "metadata": {},
   "outputs": [
    {
     "name": "stdout",
     "output_type": "stream",
     "text": [
      "program  :  program\n",
      "programs  :  program\n",
      "programmer  :  programm\n",
      "programming  :  program\n",
      "programmers  :  programm\n"
     ]
    }
   ],
   "source": [
    "# import these modules\n",
    "from nltk.stem import PorterStemmer\n",
    "from nltk.tokenize import word_tokenize\n",
    " \n",
    "ps = PorterStemmer()\n",
    " \n",
    "# choose some words to be stemmed\n",
    "words = [\"program\", \"programs\", \"programmer\", \"programming\", \"programmers\"]\n",
    " \n",
    "for w in words:\n",
    "    print(w, \" : \", ps.stem(w))"
   ]
  },
  {
   "cell_type": "code",
   "execution_count": 2,
   "metadata": {},
   "outputs": [
    {
     "name": "stdout",
     "output_type": "stream",
     "text": [
      "sad  :  sad\n",
      "sadly  :  sadli\n"
     ]
    }
   ],
   "source": [
    "# import these modules\n",
    "from nltk.stem import PorterStemmer\n",
    "from nltk.tokenize import word_tokenize\n",
    " \n",
    "ps = PorterStemmer()\n",
    " \n",
    "# choose some words to be stemmed\n",
    "words = [\"sad\", \"sadly\"]\n",
    " \n",
    "for w in words:\n",
    "    print(w, \" : \", ps.stem(w))"
   ]
  },
  {
   "cell_type": "code",
   "execution_count": 110,
   "metadata": {},
   "outputs": [
    {
     "data": {
      "text/plain": [
       "'!\"#$%&\\'()*+,-./:;<=>?@[\\\\]^_`{|}~'"
      ]
     },
     "execution_count": 110,
     "metadata": {},
     "output_type": "execute_result"
    }
   ],
   "source": [
    "# remove punctuation\n",
    "import string\n",
    "string.punctuation"
   ]
  },
  {
   "cell_type": "markdown",
   "metadata": {},
   "source": [
    "# Pipeline"
   ]
  },
  {
   "cell_type": "markdown",
   "metadata": {},
   "source": [
    "## Words Counting as Features"
   ]
  },
  {
   "cell_type": "code",
   "execution_count": 45,
   "metadata": {},
   "outputs": [],
   "source": [
    "from collections import defaultdict\n",
    "from nltk import word_tokenize"
   ]
  },
  {
   "cell_type": "code",
   "execution_count": 47,
   "metadata": {},
   "outputs": [
    {
     "data": {
      "text/plain": [
       "[(defaultdict(int, {'like': 1, 'movi': 1}), 1),\n",
       " (defaultdict(int, {'good': 1, 'movi': 1, 'nice': 1, 'stori': 1}), 1),\n",
       " (defaultdict(int, {'nice': 1, 'song': 1, 'sadli': 1, 'bore': 1, 'end': 1}),\n",
       "  0),\n",
       " (defaultdict(int,\n",
       "              {'hero': 1,\n",
       "               'act': 1,\n",
       "               'bad': 1,\n",
       "               'heroin': 1,\n",
       "               'look': 1,\n",
       "               'good': 1,\n",
       "               'overal': 1,\n",
       "               'nice': 1,\n",
       "               'movi': 1}),\n",
       "  1),\n",
       " (defaultdict(int, {'sad': 1, 'bore': 1, 'movi': 1}), 0)]"
      ]
     },
     "execution_count": 47,
     "metadata": {},
     "output_type": "execute_result"
    }
   ],
   "source": [
    "train_feature_list"
   ]
  },
  {
   "cell_type": "code",
   "execution_count": 49,
   "metadata": {},
   "outputs": [
    {
     "name": "stdout",
     "output_type": "stream",
     "text": [
      "1\n",
      "1\n",
      "0\n"
     ]
    }
   ],
   "source": [
    "# NaiveBayesClassifier \n",
    "train_feature_list = []\n",
    "for sentence, label in zip(train_sentence_list, train_label_list):\n",
    "    sentence = preprocess(sentence)\n",
    "    feature_dict = defaultdict(int)\n",
    "    for word in sentence:\n",
    "        feature_dict[word] += 1\n",
    "    train_feature_list.append((feature_dict, label))\n",
    "\n",
    "nb_classifier = nltk.NaiveBayesClassifier.train(train_feature_list)\n",
    "for test_sentence in test_sentence_list:\n",
    "    test_sentence = preprocess(test_sentence)\n",
    "    feature_dict = defaultdict(int)\n",
    "    for word in test_sentence:\n",
    "        feature_dict[word] += 1\n",
    "    print(nb_classifier.classify(feature_dict))"
   ]
  },
  {
   "cell_type": "code",
   "execution_count": 54,
   "metadata": {},
   "outputs": [
    {
     "data": {
      "text/plain": [
       "array([1, 1, 1])"
      ]
     },
     "execution_count": 54,
     "metadata": {},
     "output_type": "execute_result"
    }
   ],
   "source": [
    "# TF-IDF as features\n",
    "from sklearn.feature_extraction.text import TfidfVectorizer\n",
    "tfidf_vectorizer = TfidfVectorizer()\n",
    "tfidf_vectorizer.fit(train_sentence_list)\n",
    "train_feature_list = tfidf_vectorizer.transform(train_sentence_list)\n",
    "# LogisticRegression\n",
    "from sklearn.linear_model import LogisticRegression\n",
    "lr_classifier = LogisticRegression()\n",
    "lr_classifier.fit(train_feature_list, train_label_list)\n",
    "test_feature_list = tfidf_vectorizer.transform(test_sentence_list)\n",
    "lr_classifier.predict(test_feature_list)"
   ]
  },
  {
   "cell_type": "markdown",
   "metadata": {},
   "source": [
    "TF-IDF are better features for document classification"
   ]
  }
 ],
 "metadata": {
  "kernelspec": {
   "display_name": "310",
   "language": "python",
   "name": "python3"
  },
  "language_info": {
   "codemirror_mode": {
    "name": "ipython",
    "version": 3
   },
   "file_extension": ".py",
   "mimetype": "text/x-python",
   "name": "python",
   "nbconvert_exporter": "python",
   "pygments_lexer": "ipython3",
   "version": "3.10.9"
  },
  "orig_nbformat": 4
 },
 "nbformat": 4,
 "nbformat_minor": 2
}
