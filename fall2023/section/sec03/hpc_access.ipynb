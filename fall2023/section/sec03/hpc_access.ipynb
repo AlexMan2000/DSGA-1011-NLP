{
 "cells": [
  {
   "cell_type": "markdown",
   "source": [
    "# Verifying Access to the HPC System\n",
    "\n",
    "This tutorial guides you through the steps to confirm that you can successfully access the HPC resources available for this course. If you encounter any issues logging into `greene` or `burst`, please contact the course staff immediately.\n",
    "\n",
    "## Part 1: Logging into Greene\n",
    "\n",
    "### Prerequisites\n",
    "- Terminal app on Linux or Mac\n",
    "- Command Prompt or an SSH client on Windows 10\n",
    "\n",
    "### Steps\n",
    "1. **Initial SSH into HPC Gateway (Optional)**:\n",
    "  - If you're already connected to the NYU Network or using the [NYU VPN](https://www.nyu.edu/life/information-technology/infrastructure/network-services/vpn.html), you can skip this step.\n",
    "  - Otherwise, open your terminal or command prompt and run the following SSH command:\n",
    "    ```bash\n",
    "    ssh <NetID>@gw.hpc.nyu.edu # When prompted, enter the password associated with your NYU NetID.\n",
    "    ```\n",
    "\n",
    "2. **SSH into Greene**:\n",
    "  - Type the following command in the terminal and hit enter:\n",
    "    ```bash\n",
    "    ssh <NetID>@greene.hpc.nyu.edu\n",
    "    ```\n",
    "\n",
    "3. **Confirm Successful Login**:\n",
    "  - After running the above command, your terminal prompt should change to something like `[<NetID>@log-3 ~]$`.\n",
    "\n",
    "## Part 2: Logging into Burst\n",
    "\n",
    "### Steps\n",
    "1. **SSH into Burst from Greene**:\n",
    "  - While logged into a `greene` node, execute the following command:\n",
    "    ```bash\n",
    "    ssh burst\n",
    "    ```\n",
    "\n",
    "2. **Confirm Successful Login**:\n",
    "  - If successful, your terminal prompt will change to something like `[<NetID>@log-burst ~]$`.\n",
    "\n",
    "## Part 3: Exploring the Burst\n",
    "\n",
    "### How to Run a CPU-only Interactive Job\n",
    "- Execute the following command to initiate a simple CPU-only interactive job that lasts for 4 hours:\n",
    "  ```bash\n",
    "  srun --account=ds_ga_1011-2023fa --partition=interactive --time=04:00:00 --pty /bin/bash\n",
    "  # It may take a few minutes so please be patient :)\n",
    "  ```\n",
    "- Your terminal prompt should change to something like `bash-4.4$`.\n",
    "- To exit the job and return to your regular terminal, simply type `exit`.\n",
    "\n",
    "### How to Run a GPU Job with 1 V100 GPU\n",
    "- To launch a GPU job that utilizes one V100 GPU and lasts for 4 hours, execute:\n",
    "  ```bash\n",
    "  srun --account=ds_ga_1011-2023fa --partition=n1s8-v100-1 --gres=gpu:v100:1 --time=04:00:00 --pty /bin/bash\n",
    "  # It may take a few minutes so please be patient :)\n",
    "  ```\n",
    "\n",
    "---\n",
    "\n",
    "Feel free to reach out to the course staff for any further questions or clarifications."
   ],
   "metadata": {
    "collapsed": false
   }
  }
 ],
 "metadata": {
  "kernelspec": {
   "display_name": "Python 3",
   "language": "python",
   "name": "python3"
  },
  "language_info": {
   "codemirror_mode": {
    "name": "ipython",
    "version": 2
   },
   "file_extension": ".py",
   "mimetype": "text/x-python",
   "name": "python",
   "nbconvert_exporter": "python",
   "pygments_lexer": "ipython2",
   "version": "2.7.6"
  }
 },
 "nbformat": 4,
 "nbformat_minor": 0
}
