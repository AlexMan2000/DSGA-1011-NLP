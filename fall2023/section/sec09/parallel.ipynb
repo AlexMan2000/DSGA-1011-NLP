{
 "cells": [
  {
   "cell_type": "markdown",
   "metadata": {},
   "source": [
    "# DP"
   ]
  },
  {
   "cell_type": "code",
   "execution_count": null,
   "metadata": {},
   "outputs": [],
   "source": [
    "import torch\n",
    "import torch.nn as nn\n",
    "\n",
    "class Model(nn.Module):\n",
    "    def __init__(self):\n",
    "        super(Model, self).__init__()\n",
    "        self.fc1 = nn.Linear(100, 10)\n",
    "    \n",
    "    def forward(self, x):\n",
    "        return self.fc1(x)\n",
    "\n",
    "net = Model().cuda()\n",
    "net = nn.DataParallel(module=net, device_ids=[0, 1], output_device=0)\n",
    "\n",
    "toy_x = torch.randn(1000, 100).cuda()\n",
    "toy_y = torch.randn(1000, 10).cuda()\n",
    "criterion = nn.MSELoss()\n",
    "\n",
    "output = net(toy_x)\n",
    "print(output.shape)\n",
    "print(output.device)"
   ]
  },
  {
   "cell_type": "markdown",
   "metadata": {},
   "source": [
    "# DDP"
   ]
  },
  {
   "cell_type": "code",
   "execution_count": null,
   "metadata": {},
   "outputs": [],
   "source": [
    "import torch\n",
    "import torch.distributed as dist\n",
    "import torch.nn as nn\n",
    "import torch.optim as optim\n",
    "\n",
    "from torch.nn.parallel import DistributedDataParallel as DDP\n",
    "\n",
    "class ToyModel(nn.Module):\n",
    "    def __init__(self):\n",
    "        super(ToyModel, self).__init__()\n",
    "        self.net1 = nn.Linear(10, 10)\n",
    "        self.relu = nn.ReLU()\n",
    "        self.net2 = nn.Linear(10, 5)\n",
    "\n",
    "    def forward(self, x):\n",
    "        return self.net2(self.relu(self.net1(x)))\n",
    "\n",
    "\n",
    "def demo_basic():\n",
    "    dist.init_process_group(\"nccl\")\n",
    "    rank = dist.get_rank()\n",
    "    print(f\"Start running basic DDP example on rank {rank}.\")\n",
    "\n",
    "    # create model and move it to GPU with id rank\n",
    "    device_id = rank % torch.cuda.device_count()\n",
    "    model = ToyModel().to(device_id)\n",
    "    ddp_model = DDP(model, device_ids=[device_id])\n",
    "\n",
    "    loss_fn = nn.MSELoss()\n",
    "    optimizer = optim.SGD(ddp_model.parameters(), lr=0.001)\n",
    "\n",
    "    optimizer.zero_grad()\n",
    "    outputs = ddp_model(torch.randn(20, 10))\n",
    "    labels = torch.randn(20, 5).to(device_id)\n",
    "    loss_fn(outputs, labels).backward()\n",
    "    optimizer.step()\n",
    "    dist.destroy_process_group()\n",
    "\n",
    "if __name__ == \"__main__\":\n",
    "    demo_basic()\n",
    "    \n",
    "# export MASTER_ADDR=$(scontrol show hostname ${SLURM_NODELIST} | head -n 1)\n",
    "# torchrun --nnodes=2 --nproc_per_node=8 --rdzv_id=100 --rdzv_backend=c10d --rdzv_endpoint=$MASTER_ADDR:29400 elastic_ddp.py"
   ]
  },
  {
   "cell_type": "markdown",
   "metadata": {},
   "source": [
    "# Pytorch Lightning DDP"
   ]
  },
  {
   "cell_type": "code",
   "execution_count": null,
   "metadata": {},
   "outputs": [],
   "source": [
    "# https://lightning.ai/docs/pytorch/stable/accelerators/gpu_intermediate.html#distributed-training-strategies\n",
    "import torch\n",
    "import torch.nn as nn\n",
    "import lightning as pl\n",
    "import os\n",
    "from lightning.pytorch import LightningModule\n",
    "\n",
    "\n",
    "class Model(nn.Module):\n",
    "    def __init__(self):\n",
    "        super(Model, self).__init__()\n",
    "        self.fc1 = nn.Linear(100, 10)\n",
    "    \n",
    "    def forward(self, x):\n",
    "        return self.fc1(x)\n",
    "    \n",
    "    \n",
    "class Module(LightningModule):\n",
    "    def __init__(self):\n",
    "        super(Module, self).__init__()\n",
    "        self.model = Model()\n",
    "        self.criterion = nn.MSELoss()\n",
    "        \n",
    "    def forward(self, x):\n",
    "        return self.model(x)\n",
    "    \n",
    "    def training_step(self, batch, batch_idx):\n",
    "        x, y = batch\n",
    "        y_hat = self.model(x)\n",
    "        loss = self.criterion(y_hat, y)\n",
    "        return loss\n",
    "\n",
    "    def configure_optimizers(self):\n",
    "        return torch.optim.Adam(self.parameters(), lr=0.02)\n",
    "    \n",
    "    \n",
    "class ToyDataModule(pl.LightningDataModule):\n",
    "    def __init__(self):\n",
    "        super().__init__()\n",
    "\n",
    "    def train_dataloader(self):\n",
    "        toy_x = torch.randn(1000, 100)\n",
    "        toy_y = torch.randn(1000, 10)\n",
    "        return torch.utils.data.DataLoader(torch.utils.data.TensorDataset(toy_x, toy_y), batch_size=32)\n",
    "    \n",
    "    def val_dataloader(self):\n",
    "        toy_x = torch.randn(1000, 100)\n",
    "        toy_y = torch.randn(1000, 10)\n",
    "        return torch.utils.data.DataLoader(torch.utils.data.TensorDataset(toy_x, toy_y), batch_size=32)\n",
    "    \n",
    "    def test_dataloader(self):\n",
    "        toy_x = torch.randn(1000, 100)\n",
    "        toy_y = torch.randn(1000, 10)\n",
    "        return torch.utils.data.DataLoader(torch.utils.data.TensorDataset(toy_x, toy_y), batch_size=32)\n",
    "    \n",
    "    \n",
    "def main(): \n",
    "    # MASTER_ADDR\n",
    "    os.environ[\"MASTER_ADDR\"] = \"localhost\"\n",
    "    datamodule = ToyDataModule()\n",
    "    module = Module()\n",
    "    trainer = pl.Trainer(accelerator=\"auto\", \n",
    "                         max_epochs=1,\n",
    "                         strategy=\"ddp\"\n",
    "                         )\n",
    "    trainer.fit(module, datamodule=datamodule)\n",
    "    \n",
    "if __name__ == \"__main__\":\n",
    "    main()\n",
    "        "
   ]
  },
  {
   "cell_type": "markdown",
   "metadata": {},
   "source": [
    "# Model Parallelism"
   ]
  },
  {
   "cell_type": "code",
   "execution_count": null,
   "metadata": {},
   "outputs": [],
   "source": [
    "import torch\n",
    "import torch.nn as nn\n",
    "import torch.optim as optim\n",
    "\n",
    "\n",
    "class ToyModel(nn.Module):\n",
    "    def __init__(self):\n",
    "        super(ToyModel, self).__init__()\n",
    "        self.net1 = torch.nn.Linear(10, 10).to('cuda:0')\n",
    "        self.relu = torch.nn.ReLU()\n",
    "        self.net2 = torch.nn.Linear(10, 5).to('cuda:1')\n",
    "\n",
    "    def forward(self, x):\n",
    "        x = self.relu(self.net1(x.to('cuda:0')))\n",
    "        return self.net2(x.to('cuda:1'))"
   ]
  },
  {
   "cell_type": "markdown",
   "metadata": {},
   "source": [
    "# Tensor Parallelism"
   ]
  },
  {
   "cell_type": "code",
   "execution_count": null,
   "metadata": {},
   "outputs": [],
   "source": [
    "class linear_identity_allreduce(torch.autograd.Function):\n",
    "    @staticmethod\n",
    "    def forward(ctx, input, weight):\n",
    "\t# simple forward\n",
    "        ctx.save_for_backward(input, weight)\n",
    "        output = torch.matmul(input, weight.t())\n",
    "        return output\n",
    "    \n",
    "    @staticmethod\n",
    "    def backward(ctx, grad_output):\n",
    "\t# allreduce in backward\n",
    "        input, weight = ctx.saved_tensors\n",
    "        tp_group = get_tensor_parallel_group()\n",
    "        grad_input = torch.matmul(grad_output, weight)\n",
    "        torch.distributed.all_reduce(grad_input, group=tp_group, async_op=True)\n",
    "        \n",
    "        grad_output = grad_output.contiguous()\n",
    "        grad_output = grad_output.view(grad_output.shape[0] * grad_output.shape[1],\n",
    "                                       grad_output.shape[2])\n",
    "        input = input.view(input.shape[0] * input.shape[1], input.shape[2])\n",
    "        grad_weight = torch.matmul(grad_output.t(), input)\n",
    "        return grad_input, grad_weight\n",
    "\n",
    "\n",
    "class ColumnParallelLinear(nn.Module):\n",
    "    \"\"\"linear layer with column parallelism\n",
    "    \n",
    "    The linear layer is defined as Y = XA + b. A is parallelized along\n",
    "    its second dimension as A = [A_1, ..., A_p].\n",
    "    \"\"\"\n",
    "    \n",
    "    def __init__(\n",
    "        self, \n",
    "        input_size: int, \n",
    "        output_size: int,\n",
    "    ) -> None:\n",
    "        super().__init__()\n",
    "        self.input_size = input_size\n",
    "        self.output_size = output_size\n",
    "        \n",
    "        tp_group = get_tensor_parallel_group()\n",
    "        tp_size = tp_group.size()\n",
    "\n",
    "        assert output_size % tp_size == 0, \\\\\n",
    "            \"output_size must be divisible by tensor parallel size\"\n",
    "        self.output_size_partition = output_size // tp_size\n",
    "        \n",
    "        self.weights = torch.nn.Parameter(torch.empty(\n",
    "            self.output_size_partition, self.input_size))\n",
    "        nn.init.xavier_uniform_(self.weights)\n",
    "        \n",
    "    def forward(self, input_: torch.Tensor):\n",
    "        args = [input_, self.weights]\n",
    "        out = linear_identity_allreduce.apply(*args)\n",
    "        return out"
   ]
  },
  {
   "cell_type": "markdown",
   "metadata": {},
   "source": [
    "# Frameworks"
   ]
  },
  {
   "cell_type": "code",
   "execution_count": null,
   "metadata": {},
   "outputs": [],
   "source": [
    "from lightning.pytorch import Trainer\n",
    "\n",
    "model = MyModel()\n",
    "trainer = Trainer(accelerator=\"gpu\", devices=4, strategy=\"deepspeed_stage_3\", precision=16)\n",
    "trainer.fit(model)"
   ]
  },
  {
   "attachments": {
    "image.png": {
     "image/png": "[encoded data removed]"
    }
   },
   "cell_type": "markdown",
   "metadata": {},
   "source": [
    "<!-- set white background for matplotlib -->\n",
    "\n",
    "\n",
    "![image.png](attachment:image.png)\n"
   ]
  },
  {
   "cell_type": "markdown",
   "metadata": {},
   "source": []
  }
 ],
 "metadata": {
  "language_info": {
   "name": "python"
  }
 },
 "nbformat": 4,
 "nbformat_minor": 2
}
